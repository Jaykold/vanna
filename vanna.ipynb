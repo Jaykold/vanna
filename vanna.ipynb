{
 "cells": [
  {
   "cell_type": "code",
   "execution_count": 1,
   "id": "d1906800-488a-4793-8497-606d7e80b69f",
   "metadata": {},
   "outputs": [],
   "source": [
    "import os\n",
    "from dotenv import load_dotenv"
   ]
  },
  {
   "cell_type": "code",
   "execution_count": 2,
   "id": "615314bf-4cf2-4f2d-b715-5e12058eeef4",
   "metadata": {},
   "outputs": [],
   "source": [
    "import pandas as pd\n",
    "pd.set_option(\"display.max_columns\", None)"
   ]
  },
  {
   "cell_type": "code",
   "execution_count": 9,
   "id": "852bcd68",
   "metadata": {},
   "outputs": [],
   "source": [
    "from pinecone import Pinecone, ServerlessSpec"
   ]
  },
  {
   "cell_type": "code",
   "execution_count": 4,
   "id": "092f8a6c-c794-4ad3-987f-964ec8036142",
   "metadata": {},
   "outputs": [
    {
     "data": {
      "text/plain": [
       "True"
      ]
     },
     "execution_count": 4,
     "metadata": {},
     "output_type": "execute_result"
    }
   ],
   "source": [
    "load_dotenv()"
   ]
  },
  {
   "cell_type": "code",
   "execution_count": 5,
   "id": "b5af1c6b-1563-4d94-8f8b-67601be02e88",
   "metadata": {},
   "outputs": [],
   "source": [
    "api_key = os.getenv(\"API_KEY\")\n",
    "db_host = os.getenv(\"DB_HOST\")\n",
    "db_password = os.getenv(\"DB_PASSWORD\")\n",
    "db_user = os.getenv(\"DB_USER\")\n",
    "db_name = os.getenv(\"DB_NAME\")\n",
    "pinecone_api_key = os.getenv(\"PINECONE_API_KEY\")"
   ]
  },
  {
   "cell_type": "code",
   "execution_count": 14,
   "id": "3e0324fc",
   "metadata": {},
   "outputs": [],
   "source": [
    "index_name = \"haderach\""
   ]
  },
  {
   "cell_type": "code",
   "execution_count": 7,
   "id": "2fc8538e",
   "metadata": {},
   "outputs": [],
   "source": [
    "pc = Pinecone(api_key=pinecone_api_key)"
   ]
  },
  {
   "cell_type": "code",
   "execution_count": 16,
   "id": "5255aa00",
   "metadata": {},
   "outputs": [],
   "source": [
    "pc.create_index(\n",
    "    name=index_name,\n",
    "    dimension=1536,\n",
    "    metric=\"cosine\",\n",
    "    spec=ServerlessSpec(\n",
    "        cloud=\"aws\",\n",
    "        region=\"us-east-1\"\n",
    "    )\n",
    ")"
   ]
  },
  {
   "cell_type": "code",
   "execution_count": 18,
   "id": "02678d0a",
   "metadata": {},
   "outputs": [],
   "source": [
    "pc.delete_index(name=index_name)"
   ]
  },
  {
   "cell_type": "code",
   "execution_count": null,
   "id": "40fddd0f-746f-40b7-8513-0ea3cc256983",
   "metadata": {},
   "outputs": [],
   "source": [
    "import vanna\n",
    "from vanna.remote import VannaDefault"
   ]
  },
  {
   "cell_type": "code",
   "execution_count": 6,
   "id": "dbd14d89-eb61-42e3-b812-33e89ef0cce9",
   "metadata": {},
   "outputs": [],
   "source": [
    "model_name = 'al-gaib'\n",
    "vn = VannaDefault(model=model_name, api_key=api_key)"
   ]
  },
  {
   "cell_type": "code",
   "execution_count": 7,
   "id": "15d9e584-dfbd-40b6-a3fa-5c1b42f7b49f",
   "metadata": {},
   "outputs": [],
   "source": [
    "vn.connect_to_postgres(host=db_host,\n",
    "                       dbname=db_name,\n",
    "                       user=db_user,\n",
    "                       password=db_password,\n",
    "                       port=5432)"
   ]
  },
  {
   "cell_type": "code",
   "execution_count": 8,
   "id": "fef3ec82-1f3a-4b83-9dba-35560e92c9ce",
   "metadata": {},
   "outputs": [],
   "source": [
    "# df_information_schema = vn.run_sql('''SELECT *\n",
    "#                                     FROM information_schema.columns\n",
    "#                                     WHERE table_schema != 'public'; ''')\n",
    "# df_information_schema.head()"
   ]
  },
  {
   "cell_type": "code",
   "execution_count": 21,
   "id": "f6d64919-1014-4441-baff-4d94f46e4c88",
   "metadata": {},
   "outputs": [],
   "source": [
    "plan = vn.get_training_plan_generic(df_information_schema)"
   ]
  },
  {
   "cell_type": "code",
   "execution_count": 22,
   "id": "f946e56d-7f46-441b-b561-09c1942e4318",
   "metadata": {},
   "outputs": [
    {
     "name": "stdout",
     "output_type": "stream",
     "text": [
      "quizzard.pg_catalog pg_proc\n",
      "quizzard.pg_catalog pg_type\n",
      "quizzard.pg_catalog pg_attribute\n",
      "quizzard.pg_catalog pg_class\n",
      "quizzard.pg_catalog pg_attrdef\n",
      "quizzard.pg_catalog pg_constraint\n",
      "quizzard.pg_catalog pg_inherits\n",
      "quizzard.pg_catalog pg_index\n",
      "quizzard.pg_catalog pg_operator\n",
      "quizzard.pg_catalog pg_opfamily\n",
      "quizzard.pg_catalog pg_opclass\n",
      "quizzard.pg_catalog pg_am\n",
      "quizzard.pg_catalog pg_amop\n",
      "quizzard.pg_catalog pg_amproc\n",
      "quizzard.pg_catalog pg_language\n",
      "quizzard.pg_catalog pg_largeobject_metadata\n",
      "quizzard.pg_catalog pg_largeobject\n",
      "quizzard.pg_catalog pg_aggregate\n",
      "quizzard.pg_catalog pg_statistic\n",
      "quizzard.pg_catalog pg_statistic_ext\n",
      "quizzard.pg_catalog pg_statistic_ext_data\n",
      "quizzard.pg_catalog pg_rewrite\n",
      "quizzard.pg_catalog pg_trigger\n",
      "quizzard.pg_catalog pg_event_trigger\n",
      "quizzard.pg_catalog pg_description\n",
      "quizzard.pg_catalog pg_cast\n",
      "quizzard.pg_catalog pg_enum\n",
      "quizzard.pg_catalog pg_namespace\n",
      "quizzard.pg_catalog pg_conversion\n",
      "quizzard.pg_catalog pg_depend\n",
      "quizzard.pg_catalog pg_database\n",
      "quizzard.pg_catalog pg_db_role_setting\n",
      "quizzard.pg_catalog pg_tablespace\n",
      "quizzard.pg_catalog pg_authid\n",
      "quizzard.pg_catalog pg_auth_members\n",
      "quizzard.pg_catalog pg_shdepend\n",
      "quizzard.pg_catalog pg_shdescription\n",
      "quizzard.pg_catalog pg_ts_config\n",
      "quizzard.pg_catalog pg_ts_config_map\n",
      "quizzard.pg_catalog pg_ts_dict\n",
      "quizzard.pg_catalog pg_ts_parser\n",
      "quizzard.pg_catalog pg_ts_template\n",
      "quizzard.pg_catalog pg_extension\n",
      "quizzard.pg_catalog pg_foreign_data_wrapper\n",
      "quizzard.pg_catalog pg_foreign_server\n",
      "quizzard.pg_catalog pg_user_mapping\n",
      "quizzard.pg_catalog pg_foreign_table\n",
      "quizzard.pg_catalog pg_policy\n",
      "quizzard.pg_catalog pg_replication_origin\n",
      "quizzard.pg_catalog pg_default_acl\n",
      "quizzard.pg_catalog pg_init_privs\n",
      "quizzard.pg_catalog pg_seclabel\n",
      "quizzard.pg_catalog pg_shseclabel\n",
      "quizzard.pg_catalog pg_collation\n",
      "quizzard.pg_catalog pg_parameter_acl\n",
      "quizzard.pg_catalog pg_partitioned_table\n",
      "quizzard.pg_catalog pg_range\n",
      "quizzard.pg_catalog pg_transform\n",
      "quizzard.pg_catalog pg_sequence\n",
      "quizzard.pg_catalog pg_publication\n",
      "quizzard.pg_catalog pg_publication_namespace\n",
      "quizzard.pg_catalog pg_publication_rel\n",
      "quizzard.pg_catalog pg_subscription\n",
      "quizzard.pg_catalog pg_subscription_rel\n",
      "quizzard.pg_catalog pg_roles\n",
      "quizzard.pg_catalog pg_shadow\n",
      "quizzard.pg_catalog pg_group\n",
      "quizzard.pg_catalog pg_user\n",
      "quizzard.pg_catalog pg_policies\n",
      "quizzard.pg_catalog pg_rules\n",
      "quizzard.pg_catalog pg_views\n",
      "quizzard.pg_catalog pg_tables\n",
      "quizzard.pg_catalog pg_matviews\n",
      "quizzard.pg_catalog pg_indexes\n",
      "quizzard.pg_catalog pg_sequences\n",
      "quizzard.pg_catalog pg_stats\n",
      "quizzard.pg_catalog pg_stats_ext\n",
      "quizzard.pg_catalog pg_stats_ext_exprs\n",
      "quizzard.pg_catalog pg_publication_tables\n",
      "quizzard.pg_catalog pg_locks\n",
      "quizzard.pg_catalog pg_cursors\n",
      "quizzard.pg_catalog pg_available_extensions\n",
      "quizzard.pg_catalog pg_available_extension_versions\n",
      "quizzard.pg_catalog pg_prepared_xacts\n",
      "quizzard.pg_catalog pg_prepared_statements\n",
      "quizzard.pg_catalog pg_seclabels\n",
      "quizzard.pg_catalog pg_settings\n",
      "quizzard.pg_catalog pg_file_settings\n",
      "quizzard.pg_catalog pg_hba_file_rules\n",
      "quizzard.pg_catalog pg_ident_file_mappings\n",
      "quizzard.pg_catalog pg_timezone_abbrevs\n",
      "quizzard.pg_catalog pg_timezone_names\n",
      "quizzard.pg_catalog pg_config\n",
      "quizzard.pg_catalog pg_shmem_allocations\n",
      "quizzard.pg_catalog pg_backend_memory_contexts\n",
      "quizzard.pg_catalog pg_stat_all_tables\n",
      "quizzard.pg_catalog pg_stat_xact_all_tables\n",
      "quizzard.pg_catalog pg_stat_sys_tables\n",
      "quizzard.pg_catalog pg_stat_xact_sys_tables\n",
      "quizzard.pg_catalog pg_stat_user_tables\n",
      "quizzard.pg_catalog pg_stat_xact_user_tables\n",
      "quizzard.pg_catalog pg_statio_all_tables\n",
      "quizzard.pg_catalog pg_statio_sys_tables\n",
      "quizzard.pg_catalog pg_statio_user_tables\n",
      "quizzard.pg_catalog pg_stat_all_indexes\n",
      "quizzard.pg_catalog pg_stat_sys_indexes\n",
      "quizzard.pg_catalog pg_stat_user_indexes\n",
      "quizzard.pg_catalog pg_statio_all_indexes\n",
      "quizzard.pg_catalog pg_statio_sys_indexes\n",
      "quizzard.pg_catalog pg_statio_user_indexes\n",
      "quizzard.pg_catalog pg_statio_all_sequences\n",
      "quizzard.pg_catalog pg_statio_sys_sequences\n",
      "quizzard.pg_catalog pg_statio_user_sequences\n",
      "quizzard.pg_catalog pg_stat_activity\n",
      "quizzard.pg_catalog pg_stat_replication\n",
      "quizzard.pg_catalog pg_stat_slru\n",
      "quizzard.pg_catalog pg_stat_wal_receiver\n",
      "quizzard.pg_catalog pg_stat_recovery_prefetch\n",
      "quizzard.pg_catalog pg_stat_subscription\n",
      "quizzard.pg_catalog pg_stat_ssl\n",
      "quizzard.pg_catalog pg_stat_gssapi\n",
      "quizzard.pg_catalog pg_replication_slots\n",
      "quizzard.pg_catalog pg_stat_replication_slots\n",
      "quizzard.pg_catalog pg_stat_database\n",
      "quizzard.pg_catalog pg_stat_database_conflicts\n",
      "quizzard.pg_catalog pg_stat_user_functions\n",
      "quizzard.pg_catalog pg_stat_xact_user_functions\n",
      "quizzard.pg_catalog pg_stat_archiver\n",
      "quizzard.pg_catalog pg_stat_bgwriter\n",
      "quizzard.pg_catalog pg_stat_wal\n",
      "quizzard.pg_catalog pg_stat_progress_analyze\n",
      "quizzard.pg_catalog pg_stat_progress_vacuum\n",
      "quizzard.pg_catalog pg_stat_progress_cluster\n",
      "quizzard.pg_catalog pg_stat_progress_create_index\n",
      "quizzard.pg_catalog pg_stat_progress_basebackup\n",
      "quizzard.pg_catalog pg_stat_progress_copy\n",
      "quizzard.pg_catalog pg_user_mappings\n",
      "quizzard.pg_catalog pg_replication_origin_status\n",
      "quizzard.pg_catalog pg_stat_subscription_stats\n",
      "quizzard.information_schema information_schema_catalog_name\n",
      "quizzard.information_schema applicable_roles\n",
      "quizzard.information_schema administrable_role_authorizations\n",
      "quizzard.information_schema attributes\n",
      "quizzard.information_schema character_sets\n",
      "quizzard.information_schema check_constraint_routine_usage\n",
      "quizzard.information_schema check_constraints\n",
      "quizzard.information_schema collations\n",
      "quizzard.information_schema collation_character_set_applicability\n",
      "quizzard.information_schema column_column_usage\n",
      "quizzard.information_schema column_domain_usage\n",
      "quizzard.information_schema column_privileges\n",
      "quizzard.information_schema column_udt_usage\n",
      "quizzard.information_schema columns\n",
      "quizzard.information_schema constraint_column_usage\n",
      "quizzard.information_schema constraint_table_usage\n",
      "quizzard.information_schema domain_constraints\n",
      "quizzard.information_schema domain_udt_usage\n",
      "quizzard.information_schema domains\n",
      "quizzard.information_schema enabled_roles\n",
      "quizzard.information_schema key_column_usage\n",
      "quizzard.information_schema parameters\n",
      "quizzard.information_schema referential_constraints\n",
      "quizzard.information_schema role_column_grants\n",
      "quizzard.information_schema routine_column_usage\n",
      "quizzard.information_schema routine_privileges\n",
      "quizzard.information_schema role_routine_grants\n",
      "quizzard.information_schema routine_routine_usage\n",
      "quizzard.information_schema routine_sequence_usage\n",
      "quizzard.information_schema routine_table_usage\n",
      "quizzard.information_schema routines\n",
      "quizzard.information_schema schemata\n",
      "quizzard.information_schema sequences\n",
      "quizzard.information_schema sql_features\n",
      "quizzard.information_schema sql_implementation_info\n",
      "quizzard.information_schema sql_parts\n",
      "quizzard.information_schema sql_sizing\n",
      "quizzard.information_schema table_constraints\n",
      "quizzard.information_schema table_privileges\n",
      "quizzard.information_schema role_table_grants\n",
      "quizzard.information_schema tables\n",
      "quizzard.information_schema transforms\n",
      "quizzard.information_schema triggered_update_columns\n",
      "quizzard.information_schema triggers\n",
      "quizzard.information_schema udt_privileges\n",
      "quizzard.information_schema role_udt_grants\n",
      "quizzard.information_schema usage_privileges\n",
      "quizzard.information_schema role_usage_grants\n",
      "quizzard.information_schema user_defined_types\n",
      "quizzard.information_schema view_column_usage\n",
      "quizzard.information_schema view_routine_usage\n",
      "quizzard.information_schema view_table_usage\n",
      "quizzard.information_schema views\n",
      "quizzard.information_schema data_type_privileges\n",
      "quizzard.information_schema element_types\n",
      "quizzard.information_schema _pg_foreign_table_columns\n",
      "quizzard.information_schema column_options\n",
      "quizzard.information_schema _pg_foreign_data_wrappers\n",
      "quizzard.information_schema foreign_data_wrapper_options\n",
      "quizzard.information_schema foreign_data_wrappers\n",
      "quizzard.information_schema _pg_foreign_servers\n",
      "quizzard.information_schema foreign_server_options\n",
      "quizzard.information_schema foreign_servers\n",
      "quizzard.information_schema _pg_foreign_tables\n",
      "quizzard.information_schema foreign_table_options\n",
      "quizzard.information_schema foreign_tables\n",
      "quizzard.information_schema _pg_user_mappings\n",
      "quizzard.information_schema user_mapping_options\n",
      "quizzard.information_schema user_mappings\n"
     ]
    }
   ],
   "source": [
    "for table_name in plan.get_summary():\n",
    "  print(table_name[len(\"Train on Information Schema: \"):])"
   ]
  },
  {
   "cell_type": "code",
   "execution_count": 23,
   "id": "58f9ea46-d77f-46c4-b3e1-006001fc4811",
   "metadata": {},
   "outputs": [],
   "source": [
    "vn.train(plan=plan)"
   ]
  },
  {
   "cell_type": "code",
   "execution_count": null,
   "id": "17489371-2846-4dcf-a64a-d09765b21af8",
   "metadata": {},
   "outputs": [],
   "source": [
    "# DDL = '''\n",
    "#     CREATE TABLE IF NOT EXISTS public.\"Answers\" (\n",
    "#         \"Id\" uuid NOT NULL DEFAULT gen_random_uuid(),\n",
    "#         \"CreatedAt\" timestamptz NOT NULL,\n",
    "#         \"LastUpdatedAt\" timestamptz NOT NULL,\n",
    "#         \"OptionId\" uuid NOT NULL,\n",
    "#         \"QuestionId\" uuid NOT NULL,\n",
    "#         \"QuizSessionId\" uuid NOT NULL,\n",
    "#         \"UserId\" uuid NOT NULL,\n",
    "#         CONSTRAINT \"Answers_pkey\" PRIMARY KEY (\"Id\"),\n",
    "#         CONSTRAINT \"Answers_OptionId_fkey\" FOREIGN KEY (\"OptionId\") \n",
    "#             REFERENCES public.\"Options\" (\"Id\") ON DELETE CASCADE,\n",
    "#         CONSTRAINT \"Answers_QuestionId_fkey\" FOREIGN KEY (\"QuestionId\") \n",
    "#             REFERENCES public.\"Questions\" (\"Id\") ON DELETE CASCADE,\n",
    "#         CONSTRAINT \"Answers_QuizSessionId_fkey\" FOREIGN KEY (\"QuizSessionId\") \n",
    "#             REFERENCES public.\"QuizSessions\" (\"Id\") ON DELETE CASCADE,\n",
    "#         CONSTRAINT \"Answers_UserId_fkey\" FOREIGN KEY (\"UserId\") \n",
    "#             REFERENCES public.\"Users\" (\"Id\") ON DELETE CASCADE\n",
    "#     );\n",
    "# '''"
   ]
  },
  {
   "cell_type": "code",
   "execution_count": 16,
   "id": "af2f978f-fdeb-436f-9366-7f3a4e51b349",
   "metadata": {},
   "outputs": [],
   "source": [
    "DDL = '''\n",
    "CREATE TABLE IF NOT EXISTS public.\"Answers\" (\n",
    "    \"Id\" uuid PRIMARY KEY DEFAULT gen_random_uuid(),\n",
    "    \"CreatedAt\" timestamptz NOT NULL,\n",
    "    \"LastUpdatedAt\" timestamptz NOT NULL,\n",
    "    \"OptionId\" uuid NOT NULL REFERENCES public.\"Options\" (\"Id\") ON DELETE CASCADE,\n",
    "    \"QuestionId\" uuid NOT NULL REFERENCES public.\"Questions\" (\"Id\") ON DELETE CASCADE,\n",
    "    \"QuizSessionId\" uuid NOT NULL REFERENCES public.\"QuizSessions\" (\"Id\") ON DELETE CASCADE,\n",
    "    \"UserId\" uuid NOT NULL REFERENCES public.\"Users\" (\"Id\") ON DELETE CASCADE\n",
    ");\n",
    "'''"
   ]
  },
  {
   "cell_type": "code",
   "execution_count": 17,
   "id": "f21f641b-0fd6-43de-b84a-238f6fda351d",
   "metadata": {},
   "outputs": [
    {
     "name": "stdout",
     "output_type": "stream",
     "text": [
      "Adding ddl: \n",
      "CREATE TABLE IF NOT EXISTS public.\"Answers\" (\n",
      "    \"Id\" uuid PRIMARY KEY DEFAULT gen_random_uuid(),\n",
      "    \"CreatedAt\" timestamptz NOT NULL,\n",
      "    \"LastUpdatedAt\" timestamptz NOT NULL,\n",
      "    \"OptionId\" uuid NOT NULL REFERENCES public.\"Options\" (\"Id\") ON DELETE CASCADE,\n",
      "    \"QuestionId\" uuid NOT NULL REFERENCES public.\"Questions\" (\"Id\") ON DELETE CASCADE,\n",
      "    \"QuizSessionId\" uuid NOT NULL REFERENCES public.\"QuizSessions\" (\"Id\") ON DELETE CASCADE,\n",
      "    \"UserId\" uuid NOT NULL REFERENCES public.\"Users\" (\"Id\") ON DELETE CASCADE\n",
      ");\n",
      "\n"
     ]
    },
    {
     "data": {
      "text/plain": [
       "'352494-ddl'"
      ]
     },
     "execution_count": 17,
     "metadata": {},
     "output_type": "execute_result"
    }
   ],
   "source": [
    "vn.train(ddl=DDL)"
   ]
  },
  {
   "cell_type": "code",
   "execution_count": 23,
   "id": "7b1f536b-4dc8-4a0f-840a-e7e8ef09af70",
   "metadata": {},
   "outputs": [
    {
     "name": "stdout",
     "output_type": "stream",
     "text": [
      "Adding documentation....\n"
     ]
    },
    {
     "data": {
      "text/plain": [
       "'2438295-doc'"
      ]
     },
     "execution_count": 23,
     "metadata": {},
     "output_type": "execute_result"
    }
   ],
   "source": [
    "vn.train(documentation=\"When querying any table, use the fully qualified table name including schema\")"
   ]
  },
  {
   "cell_type": "code",
   "execution_count": 21,
   "id": "f1ff6651-d599-4554-9da2-e3eaff8da9eb",
   "metadata": {},
   "outputs": [],
   "source": [
    "sql_queries = [\n",
    "    ''' SELECT \n",
    "    \"QuizSessionId\",\n",
    "    COUNT(*) AS answers_in_session,\n",
    "    MIN(\"CreatedAt\") AS session_start,\n",
    "    MAX(\"CreatedAt\") AS session_end,\n",
    "    COUNT(DISTINCT \"UserId\") AS unique_users\n",
    "    FROM public.\"Answers\"\n",
    "    GROUP BY \"QuizSessionId\"\n",
    "    ORDER BY session_start;\n",
    "    ''',\n",
    "\n",
    "    ''' SELECT \n",
    "    q.\"QuestionText\",\n",
    "    COUNT(a.*) AS times_answered,\n",
    "    COUNT(DISTINCT a.\"UserId\") AS unique_users_answered\n",
    "    FROM public.\"Answers\" a\n",
    "    JOIN public.\"Questions\" q ON q.\"Id\" = a.\"QuestionId\"\n",
    "    GROUP BY a.\"QuestionId\", q.\"QuestionText\"\n",
    "    ORDER BY times_answered DESC;\n",
    "    ''',\n",
    "\n",
    "    ''' SELECT \n",
    "    CONCAT(u.\"FirstName\", ' ', u.\"LastName\") AS FullName, \n",
    "    COUNT(q.\"Score\") AS points,\n",
    "    TO_CHAR(q.\"EndTime\" - q.\"StartTime\", 'HH24:MI:SS') AS duration\n",
    "    FROM public.\"Users\" AS u\n",
    "    JOIN public.\"QuizSessions\" AS q ON u.\"Id\" = q.\"UserId\"\n",
    "    GROUP BY FullName, duration\n",
    "    ORDER BY points DESC;\n",
    "    ''',\n",
    "\n",
    "    ''' SELECT \n",
    "    CONCAT(\"FirstName\", ' ', \"LastName\") AS FullName,\n",
    "    \"Email\"\n",
    "    FROM public.\"Users\"\n",
    "    WHERE \"EmailConfirmed\" = true;\n",
    "    '''\n",
    "]"
   ]
  },
  {
   "cell_type": "code",
   "execution_count": null,
   "id": "e112846a-c5aa-4a00-943e-9e1038d4aff8",
   "metadata": {
    "scrolled": true
   },
   "outputs": [],
   "source": [
    "vn.run_sql(sql_queries[1])"
   ]
  },
  {
   "cell_type": "code",
   "execution_count": 22,
   "id": "899d1874-0bc9-42ed-97af-cd2014798c6b",
   "metadata": {},
   "outputs": [
    {
     "data": {
      "text/html": [
       "<div>\n",
       "<style scoped>\n",
       "    .dataframe tbody tr th:only-of-type {\n",
       "        vertical-align: middle;\n",
       "    }\n",
       "\n",
       "    .dataframe tbody tr th {\n",
       "        vertical-align: top;\n",
       "    }\n",
       "\n",
       "    .dataframe thead th {\n",
       "        text-align: right;\n",
       "    }\n",
       "</style>\n",
       "<table border=\"1\" class=\"dataframe\">\n",
       "  <thead>\n",
       "    <tr style=\"text-align: right;\">\n",
       "      <th></th>\n",
       "      <th>fullname</th>\n",
       "      <th>Email</th>\n",
       "    </tr>\n",
       "  </thead>\n",
       "  <tbody>\n",
       "    <tr>\n",
       "      <th>0</th>\n",
       "      <td>Admin Oga</td>\n",
       "      <td>admin@admin.com</td>\n",
       "    </tr>\n",
       "    <tr>\n",
       "      <th>1</th>\n",
       "      <td>Christian Ichebi</td>\n",
       "      <td>christianichebi@gmail.com</td>\n",
       "    </tr>\n",
       "    <tr>\n",
       "      <th>2</th>\n",
       "      <td>Zee Bola</td>\n",
       "      <td>zajibola41@gmail.com</td>\n",
       "    </tr>\n",
       "    <tr>\n",
       "      <th>3</th>\n",
       "      <td>Odunayo Bamigboye</td>\n",
       "      <td>odunayo845@gmail.com</td>\n",
       "    </tr>\n",
       "    <tr>\n",
       "      <th>4</th>\n",
       "      <td>eka essien</td>\n",
       "      <td>ekaessien@gmail.com</td>\n",
       "    </tr>\n",
       "  </tbody>\n",
       "</table>\n",
       "</div>"
      ],
      "text/plain": [
       "            fullname                      Email\n",
       "0          Admin Oga            admin@admin.com\n",
       "1   Christian Ichebi  christianichebi@gmail.com\n",
       "2           Zee Bola       zajibola41@gmail.com\n",
       "3  Odunayo Bamigboye       odunayo845@gmail.com\n",
       "4         eka essien        ekaessien@gmail.com"
      ]
     },
     "execution_count": 22,
     "metadata": {},
     "output_type": "execute_result"
    }
   ],
   "source": [
    "vn.run_sql(sql_queries[3]).head()"
   ]
  },
  {
   "cell_type": "code",
   "execution_count": 21,
   "id": "516862f1-4f2d-4906-b778-920d2de3dc28",
   "metadata": {},
   "outputs": [
    {
     "data": {
      "text/plain": [
       "'0d9b503a9fd7e3f2d57d1786c462003b-sql'"
      ]
     },
     "execution_count": 21,
     "metadata": {},
     "output_type": "execute_result"
    }
   ],
   "source": [
    "vn.train(\n",
    "        question=\"What are the most popular questions being answered, and how many unique users have answered each one?\",\n",
    "        sql=sql_queries[1]\n",
    ")"
   ]
  },
  {
   "cell_type": "code",
   "execution_count": 16,
   "id": "166ed507-9de1-4f68-ad90-773b9ecac7bb",
   "metadata": {},
   "outputs": [
    {
     "name": "stdout",
     "output_type": "stream",
     "text": [
      "Question generated with sql: What is the total points and duration for each user's quiz session, ordered by points in descending order? \n",
      "Adding SQL...\n"
     ]
    },
    {
     "data": {
      "text/plain": [
       "'9edcee69edcbc8338de4bef97e55ec34-sql'"
      ]
     },
     "execution_count": 16,
     "metadata": {},
     "output_type": "execute_result"
    }
   ],
   "source": [
    "vn.train(sql = sql_queries[2])"
   ]
  },
  {
   "cell_type": "code",
   "execution_count": 23,
   "id": "b5b7a73f-65d1-4b9d-8ca3-e0500ac3a5cc",
   "metadata": {},
   "outputs": [
    {
     "data": {
      "text/plain": [
       "'b3a1d2b6f561005f98928c55071b2528-sql'"
      ]
     },
     "execution_count": 23,
     "metadata": {},
     "output_type": "execute_result"
    }
   ],
   "source": [
    "vn.train(question= \"Who are the users with confirmed emails?\",\n",
    "         sql=sql_queries[3])"
   ]
  },
  {
   "cell_type": "code",
   "execution_count": 14,
   "id": "421923e5-09fa-4ce7-bd88-f02b07d79f8a",
   "metadata": {},
   "outputs": [],
   "source": [
    "import warnings\n",
    "warnings.filterwarnings(\"ignore\") "
   ]
  },
  {
   "cell_type": "code",
   "execution_count": 57,
   "id": "c50dc9ab-97fd-40fe-ae65-25ffa9e9134a",
   "metadata": {},
   "outputs": [
    {
     "name": "stdout",
     "output_type": "stream",
     "text": [
      "SQL Prompt: [{'role': 'system', 'content': 'You are a PostgreSQL expert. Please help to generate a SQL query to answer the question. Your response should ONLY be based on the given context and follow the response guidelines and format instructions. \\n===Tables \\n\\nCREATE TABLE IF NOT EXISTS public.\"Answers\" (\\n    \"Id\" uuid PRIMARY KEY DEFAULT gen_random_uuid(),\\n    \"CreatedAt\" timestamptz NOT NULL,\\n    \"LastUpdatedAt\" timestamptz NOT NULL,\\n    \"OptionId\" uuid NOT NULL REFERENCES public.\"Options\" (\"Id\") ON DELETE CASCADE,\\n    \"QuestionId\" uuid NOT NULL REFERENCES public.\"Questions\" (\"Id\") ON DELETE CASCADE,\\n    \"QuizSessionId\" uuid NOT NULL REFERENCES public.\"QuizSessions\" (\"Id\") ON DELETE CASCADE,\\n    \"UserId\" uuid NOT NULL REFERENCES public.\"Users\" (\"Id\") ON DELETE CASCADE\\n);\\n\\n\\n\\n===Additional Context \\n\\nThe following columns are in the Users table in the quizzard database:\\n\\n|    | table_catalog   | table_schema   | table_name   | column_name                      | data_type                |\\n|---:|:----------------|:---------------|:-------------|:---------------------------------|:-------------------------|\\n| 32 | quizzard        | public         | Users        | Id                               | uuid                     |\\n| 33 | quizzard        | public         | Users        | FirstName                        | text                     |\\n| 34 | quizzard        | public         | Users        | LastName                         | text                     |\\n| 35 | quizzard        | public         | Users        | Email                            | text                     |\\n| 36 | quizzard        | public         | Users        | PasswordHash                     | text                     |\\n| 37 | quizzard        | public         | Users        | Role                             | text                     |\\n| 38 | quizzard        | public         | Users        | CreatedAt                        | timestamp with time zone |\\n| 39 | quizzard        | public         | Users        | UpdatedAt                        | timestamp with time zone |\\n| 40 | quizzard        | public         | Users        | ResetToken                       | text                     |\\n| 41 | quizzard        | public         | Users        | ResetTokenExpiration             | timestamp with time zone |\\n| 42 | quizzard        | public         | Users        | EmailConfirmed                   | boolean                  |\\n| 43 | quizzard        | public         | Users        | EmailVerificationToken           | text                     |\\n| 44 | quizzard        | public         | Users        | EmailVerificationTokenExpiration | timestamp with time zone |\\n\\nThe following columns are in the Users table in the quizzard database:\\n\\n|    | table_catalog   | table_schema   | table_name   | column_name                      | data_type                |\\n|---:|:----------------|:---------------|:-------------|:---------------------------------|:-------------------------|\\n| 32 | quizzard        | public         | Users        | Id                               | uuid                     |\\n| 33 | quizzard        | public         | Users        | FirstName                        | text                     |\\n| 34 | quizzard        | public         | Users        | LastName                         | text                     |\\n| 35 | quizzard        | public         | Users        | Email                            | text                     |\\n| 36 | quizzard        | public         | Users        | PasswordHash                     | text                     |\\n| 37 | quizzard        | public         | Users        | Role                             | text                     |\\n| 38 | quizzard        | public         | Users        | CreatedAt                        | timestamp with time zone |\\n| 39 | quizzard        | public         | Users        | UpdatedAt                        | timestamp with time zone |\\n| 40 | quizzard        | public         | Users        | ResetToken                       | text                     |\\n| 41 | quizzard        | public         | Users        | ResetTokenExpiration             | timestamp with time zone |\\n| 42 | quizzard        | public         | Users        | EmailConfirmed                   | boolean                  |\\n| 43 | quizzard        | public         | Users        | EmailVerificationToken           | text                     |\\n| 44 | quizzard        | public         | Users        | EmailVerificationTokenExpiration | timestamp with time zone |\\n\\nThe following columns are in the Users table in the quizzard database:\\n\\n|    | table_catalog   | table_schema   | table_name   | column_name                      | data_type                |\\n|---:|:----------------|:---------------|:-------------|:---------------------------------|:-------------------------|\\n| 32 | quizzard        | public         | Users        | Id                               | uuid                     |\\n| 33 | quizzard        | public         | Users        | FirstName                        | text                     |\\n| 34 | quizzard        | public         | Users        | LastName                         | text                     |\\n| 35 | quizzard        | public         | Users        | Email                            | text                     |\\n| 36 | quizzard        | public         | Users        | PasswordHash                     | text                     |\\n| 37 | quizzard        | public         | Users        | Role                             | text                     |\\n| 38 | quizzard        | public         | Users        | CreatedAt                        | timestamp with time zone |\\n| 39 | quizzard        | public         | Users        | UpdatedAt                        | timestamp with time zone |\\n| 40 | quizzard        | public         | Users        | ResetToken                       | text                     |\\n| 41 | quizzard        | public         | Users        | ResetTokenExpiration             | timestamp with time zone |\\n| 42 | quizzard        | public         | Users        | EmailConfirmed                   | boolean                  |\\n| 43 | quizzard        | public         | Users        | EmailVerificationToken           | text                     |\\n| 44 | quizzard        | public         | Users        | EmailVerificationTokenExpiration | timestamp with time zone |\\n\\nThe following columns are in the Users table in the quizzard database:\\n\\n|    | table_catalog   | table_schema   | table_name   | column_name                      | data_type                |\\n|---:|:----------------|:---------------|:-------------|:---------------------------------|:-------------------------|\\n| 32 | quizzard        | public         | Users        | Id                               | uuid                     |\\n| 33 | quizzard        | public         | Users        | FirstName                        | text                     |\\n| 34 | quizzard        | public         | Users        | LastName                         | text                     |\\n| 35 | quizzard        | public         | Users        | Email                            | text                     |\\n| 36 | quizzard        | public         | Users        | PasswordHash                     | text                     |\\n| 37 | quizzard        | public         | Users        | Role                             | text                     |\\n| 38 | quizzard        | public         | Users        | CreatedAt                        | timestamp with time zone |\\n| 39 | quizzard        | public         | Users        | UpdatedAt                        | timestamp with time zone |\\n| 40 | quizzard        | public         | Users        | ResetToken                       | text                     |\\n| 41 | quizzard        | public         | Users        | ResetTokenExpiration             | timestamp with time zone |\\n| 42 | quizzard        | public         | Users        | EmailConfirmed                   | boolean                  |\\n| 43 | quizzard        | public         | Users        | EmailVerificationToken           | text                     |\\n| 44 | quizzard        | public         | Users        | EmailVerificationTokenExpiration | timestamp with time zone |\\n\\nThe following columns are in the pg_user table in the quizzard database:\\n\\n|     | table_catalog   | table_schema   | table_name   | column_name   | data_type                |\\n|----:|:----------------|:---------------|:-------------|:--------------|:-------------------------|\\n| 600 | quizzard        | pg_catalog     | pg_user      | usename       | name                     |\\n| 601 | quizzard        | pg_catalog     | pg_user      | usesysid      | oid                      |\\n| 602 | quizzard        | pg_catalog     | pg_user      | usecreatedb   | boolean                  |\\n| 603 | quizzard        | pg_catalog     | pg_user      | usesuper      | boolean                  |\\n| 604 | quizzard        | pg_catalog     | pg_user      | userepl       | boolean                  |\\n| 605 | quizzard        | pg_catalog     | pg_user      | usebypassrls  | boolean                  |\\n| 606 | quizzard        | pg_catalog     | pg_user      | passwd        | text                     |\\n| 607 | quizzard        | pg_catalog     | pg_user      | valuntil      | timestamp with time zone |\\n| 608 | quizzard        | pg_catalog     | pg_user      | useconfig     | ARRAY                    |\\n\\nThe following columns are in the pg_auth_members table in the quizzard database:\\n\\n|     | table_catalog   | table_schema   | table_name      | column_name   | data_type   |\\n|----:|:----------------|:---------------|:----------------|:--------------|:------------|\\n| 410 | quizzard        | pg_catalog     | pg_auth_members | roleid        | oid         |\\n| 411 | quizzard        | pg_catalog     | pg_auth_members | member        | oid         |\\n| 412 | quizzard        | pg_catalog     | pg_auth_members | grantor       | oid         |\\n| 413 | quizzard        | pg_catalog     | pg_auth_members | admin_option  | boolean     |\\n\\nThe following columns are in the Questions table in the quizzard database:\\n\\n|    | table_catalog   | table_schema   | table_name   | column_name   | data_type                |\\n|---:|:----------------|:---------------|:-------------|:--------------|:-------------------------|\\n|  0 | quizzard        | public         | Questions    | Id            | uuid                     |\\n|  1 | quizzard        | public         | Questions    | QuestionText  | text                     |\\n|  2 | quizzard        | public         | Questions    | CreatedAt     | timestamp with time zone |\\n|  3 | quizzard        | public         | Questions    | UpdatedAt     | timestamp with time zone |\\n|  4 | quizzard        | public         | Questions    | QuizId        | uuid                     |\\n\\nThe following columns are in the Questions table in the quizzard database:\\n\\n|    | table_catalog   | table_schema   | table_name   | column_name   | data_type                |\\n|---:|:----------------|:---------------|:-------------|:--------------|:-------------------------|\\n|  0 | quizzard        | public         | Questions    | Id            | uuid                     |\\n|  1 | quizzard        | public         | Questions    | QuestionText  | text                     |\\n|  2 | quizzard        | public         | Questions    | CreatedAt     | timestamp with time zone |\\n|  3 | quizzard        | public         | Questions    | UpdatedAt     | timestamp with time zone |\\n|  4 | quizzard        | public         | Questions    | QuizId        | uuid                     |\\n\\nThe following columns are in the Questions table in the quizzard database:\\n\\n|    | table_catalog   | table_schema   | table_name   | column_name   | data_type                |\\n|---:|:----------------|:---------------|:-------------|:--------------|:-------------------------|\\n|  0 | quizzard        | public         | Questions    | Id            | uuid                     |\\n|  1 | quizzard        | public         | Questions    | QuestionText  | text                     |\\n|  2 | quizzard        | public         | Questions    | CreatedAt     | timestamp with time zone |\\n|  3 | quizzard        | public         | Questions    | UpdatedAt     | timestamp with time zone |\\n|  4 | quizzard        | public         | Questions    | QuizId        | uuid                     |\\n\\nThe following columns are in the Questions table in the quizzard database:\\n\\n|    | table_catalog   | table_schema   | table_name   | column_name   | data_type                |\\n|---:|:----------------|:---------------|:-------------|:--------------|:-------------------------|\\n|  0 | quizzard        | public         | Questions    | Id            | uuid                     |\\n|  1 | quizzard        | public         | Questions    | QuestionText  | text                     |\\n|  2 | quizzard        | public         | Questions    | CreatedAt     | timestamp with time zone |\\n|  3 | quizzard        | public         | Questions    | UpdatedAt     | timestamp with time zone |\\n|  4 | quizzard        | public         | Questions    | QuizId        | uuid                     |\\n\\n===Response Guidelines \\n1. If the provided context is sufficient, please generate a valid SQL query without any explanations for the question. \\n2. If the provided context is almost sufficient but requires knowledge of a specific string in a particular column, please generate an intermediate SQL query to find the distinct strings in that column. Prepend the query with a comment saying intermediate_sql \\n3. If the provided context is insufficient, please explain why it can\\'t be generated. \\n4. Please use the most relevant table(s). \\n5. If the question has been asked and answered before, please repeat the answer exactly as it was given before. \\n6. Ensure that the output SQL is PostgreSQL-compliant and executable, and free of syntax errors. \\n'}, {'role': 'user', 'content': 'Can you give me the users with confirmed emails from public.User? limiting result to 5'}, {'role': 'assistant', 'content': 'SELECT \\n    \"FirstName\",\\n    \"LastName\",\\n    \"Email\"\\nFROM public.\"Users\"\\nWHERE \"EmailConfirmed\" = true\\nLIMIT 5;'}, {'role': 'user', 'content': 'Who are the users with confirmed emails?'}, {'role': 'assistant', 'content': ' SELECT \\n    CONCAT(\"FirstName\", \\' \\', \"LastName\") AS FullName,\\n    \"Email\"\\n    FROM public.\"Users\"\\n    WHERE \"EmailConfirmed\" = true;\\n    '}, {'role': 'user', 'content': 'What are the most popular questions being answered, and how many unique users have answered each one from public.Answer and public.Question?'}, {'role': 'assistant', 'content': 'SELECT \\n    q.\"QuestionText\",\\n    COUNT(a.*) AS times_answered,\\n    COUNT(DISTINCT a.\"UserId\") AS unique_users_answered\\nFROM public.\"Answers\" a\\nJOIN public.\"Questions\" q ON q.\"Id\" = a.\"QuestionId\"\\nGROUP BY a.\"QuestionId\", q.\"QuestionText\"\\nORDER BY times_answered DESC;'}, {'role': 'user', 'content': 'What are the most popular questions being answered, and how many unique users have answered each one?'}, {'role': 'assistant', 'content': ' SELECT \\n    q.\"QuestionText\",\\n    COUNT(a.*) AS times_answered,\\n    COUNT(DISTINCT a.\"UserId\") AS unique_users_answered\\n    FROM public.\"Answers\" a\\n    JOIN public.\"Questions\" q ON q.\"Id\" = a.\"QuestionId\"\\n    GROUP BY a.\"QuestionId\", q.\"QuestionText\"\\n    ORDER BY times_answered DESC;\\n    '}, {'role': 'user', 'content': \"What is the total points and duration for each user's quiz session, ordered by points in descending order?\"}, {'role': 'assistant', 'content': ' SELECT \\n    CONCAT(u.\"FirstName\", \\' \\', u.\"LastName\") AS FullName, \\n    COUNT(q.\"Score\") AS points,\\n    TO_CHAR(q.\"EndTime\" - q.\"StartTime\", \\'HH24:MI:SS\\') AS duration\\n    FROM public.\"Users\" AS u\\n    JOIN public.\"QuizSessions\" AS q ON u.\"Id\" = q.\"UserId\"\\n    GROUP BY FullName, duration\\n    ORDER BY points DESC;\\n    '}, {'role': 'user', 'content': 'Can you give me the users with confirmed emails from public.User? limiting result to 5'}]\n",
      "LLM Response: ```sql\n",
      "SELECT \n",
      "    \"FirstName\",\n",
      "    \"LastName\",\n",
      "    \"Email\"\n",
      "FROM public.\"Users\"\n",
      "WHERE \"EmailConfirmed\" = true\n",
      "LIMIT 5;\n",
      "```\n",
      "Extracted SQL: SELECT \n",
      "    \"FirstName\",\n",
      "    \"LastName\",\n",
      "    \"Email\"\n",
      "FROM public.\"Users\"\n",
      "WHERE \"EmailConfirmed\" = true\n",
      "LIMIT 5;\n"
     ]
    },
    {
     "data": {
      "text/plain": [
       "'SELECT \\n    \"FirstName\",\\n    \"LastName\",\\n    \"Email\"\\nFROM public.\"Users\"\\nWHERE \"EmailConfirmed\" = true\\nLIMIT 5;'"
      ]
     },
     "execution_count": 57,
     "metadata": {},
     "output_type": "execute_result"
    }
   ],
   "source": [
    "vn.generate_sql(question=\"Can you give me the users with confirmed emails from public.User? limiting result to 5\")"
   ]
  },
  {
   "cell_type": "code",
   "execution_count": 48,
   "id": "500a4ef4-a508-4ce3-9008-497cf5d92c3a",
   "metadata": {
    "scrolled": true
   },
   "outputs": [],
   "source": [
    "train = vn.get_training_data()"
   ]
  },
  {
   "cell_type": "code",
   "execution_count": 25,
   "id": "858ffde8-6e25-4bb5-8499-5597cc40ad2a",
   "metadata": {},
   "outputs": [
    {
     "data": {
      "text/plain": [
       "109    The following columns are in the __EFMigration...\n",
       "Name: content, dtype: object"
      ]
     },
     "execution_count": 25,
     "metadata": {},
     "output_type": "execute_result"
    }
   ],
   "source": [
    "train[\"content\"].iloc[[109]]"
   ]
  },
  {
   "cell_type": "code",
   "execution_count": null,
   "id": "e4e09959-450b-4ab7-afc2-a433264c41fa",
   "metadata": {},
   "outputs": [],
   "source": [
    "#vn.remove_training_data(id='2422154-doc')"
   ]
  }
 ],
 "metadata": {
  "kernelspec": {
   "display_name": "base",
   "language": "python",
   "name": "python3"
  },
  "language_info": {
   "codemirror_mode": {
    "name": "ipython",
    "version": 3
   },
   "file_extension": ".py",
   "mimetype": "text/x-python",
   "name": "python",
   "nbconvert_exporter": "python",
   "pygments_lexer": "ipython3",
   "version": "3.11.7"
  }
 },
 "nbformat": 4,
 "nbformat_minor": 5
}
